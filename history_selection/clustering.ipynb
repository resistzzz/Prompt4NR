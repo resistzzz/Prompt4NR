{
 "cells": [
  {
   "cell_type": "markdown",
   "id": "10e41fbf",
   "metadata": {},
   "source": [
    "# Clustering Algorithm for History selection"
   ]
  },
  {
   "cell_type": "code",
   "execution_count": 1,
   "id": "52d97543-d741-4f7f-ad9d-c83bc062c2f4",
   "metadata": {},
   "outputs": [],
   "source": [
    "import pickle\n",
    "import os\n",
    "import pandas as pd\n",
    "import pyarrow\n",
    "import pyarrow.parquet as pa\n",
    "\n",
    "from sklearn.preprocessing import MultiLabelBinarizer, MinMaxScaler\n",
    "from scipy.cluster.hierarchy import linkage, dendrogram, fcluster, cophenet\n",
    "from sklearn.metrics import silhouette_score\n",
    "from scipy.spatial.distance import pdist, squareform\n",
    "import numpy as np\n",
    "import math\n",
    "\n",
    "# This flag gives the possibility to run the code in testmode\n",
    "# i.e. test prints and limited I/O output such that it does not exceed the buffer (e.g. only printing one user) \n",
    "TEST = False"
   ]
  },
  {
   "cell_type": "markdown",
   "id": "00b7792c",
   "metadata": {},
   "source": [
    "## Data exploration\n",
    "### User histories"
   ]
  },
  {
   "cell_type": "code",
   "execution_count": 4,
   "id": "fe1da279-1924-48e1-835a-ac975b500441",
   "metadata": {},
   "outputs": [],
   "source": [
    "# Specify the path to save the clustered user histories\n",
    "user_articles_info_path = \"../DATA/user_history_selection/final_cluster_data.txt\"\n",
    "\"\"\" Read in user histories article info, i.e. features to use for clustering provided in the following format:\n",
    "\n",
    "    {<user_id>:\n",
    "        'index': {<index to corresponding to the lists below>: <article_id>, ...},  # To map back the enries to an article id\n",
    "        'topics': [['politics', 'economy'], ...],\n",
    "        'sentiment': [<sentiment_score>, ...],                                      # Range [0, 1]\n",
    "        'page_views': [100, ...],\n",
    "        'time_published': [<'yyyy-MM-dd HH:mm:ss'>,...] }                           # String of datetime\n",
    "\n",
    "\"\"\"\n",
    "user_articles_info = pickle.load(open(user_articles_info_path, 'rb'))"
   ]
  },
  {
   "cell_type": "code",
   "execution_count": 5,
   "id": "372122f0-94ec-42c9-a217-91c5f5061afe",
   "metadata": {},
   "outputs": [],
   "source": [
    "# TEST PRINT\n",
    "if TEST:\n",
    "    K = 1\n",
    "    res = dict(list(user_articles_info.items())[0: K])\n",
    "    print(res)"
   ]
  },
  {
   "cell_type": "code",
   "execution_count": 6,
   "id": "41c1e68c-c5dc-4ee6-8d4b-c20bb6c921c4",
   "metadata": {},
   "outputs": [
    {
     "name": "stdout",
     "output_type": "stream",
     "text": [
      "19704 users\n"
     ]
    }
   ],
   "source": [
    "print(len(user_articles_info), \"users\")"
   ]
  },
  {
   "cell_type": "code",
   "execution_count": 7,
   "id": "d1fe1476-ca24-4ab6-97b6-0c9469216332",
   "metadata": {},
   "outputs": [],
   "source": [
    "if TEST:\n",
    "    example_user_id = list(user_articles_info.keys())[0]\n",
    "    print(\"User\", example_user_id)\n",
    "    print(user_articles_info[example_user_id])"
   ]
  },
  {
   "cell_type": "code",
   "execution_count": 8,
   "id": "5873f36a-9c45-4bb4-ad85-fe89f514c5b2",
   "metadata": {},
   "outputs": [
    {
     "name": "stdout",
     "output_type": "stream",
     "text": [
      "On average, the average 'page_views' per user is 110880.13820090744\n"
     ]
    },
    {
     "name": "stderr",
     "output_type": "stream",
     "text": [
      "/tmp/ipykernel_5912/2920062914.py:10: RuntimeWarning: Mean of empty slice\n",
      "  user_avg_page_views = np.nanmean(np.array(page_views))\n"
     ]
    }
   ],
   "source": [
    "df_ua_info = pd.DataFrame(user_articles_info).T\n",
    "\n",
    "if TEST:\n",
    "    display(df_ua_info)\n",
    "\n",
    "# Compute what the average 'page_views' is for a user given the whole dataset, \n",
    "# i.e. the average 'page_views' for whole dataset of the average 'page_views' per user history\n",
    "count_user_avg_page_views = np.array([])\n",
    "for page_views in df_ua_info[\"page_views\"]:\n",
    "    user_avg_page_views = np.nanmean(np.array(page_views)) \n",
    "    count_user_avg_page_views = np.append(count_user_avg_page_views, user_avg_page_views)\n",
    "\n",
    "avg_avg_user_page_views = np.nanmean(count_user_avg_page_views)\n",
    "print(\"On average, the average 'page_views' per user is\", avg_avg_user_page_views)"
   ]
  },
  {
   "cell_type": "markdown",
   "id": "dc3be920",
   "metadata": {},
   "source": [
    "## Clustering"
   ]
  },
  {
   "cell_type": "code",
   "execution_count": 9,
   "id": "19f8742d-68ef-4cbf-b346-b62bf79066d8",
   "metadata": {},
   "outputs": [
    {
     "name": "stderr",
     "output_type": "stream",
     "text": [
      "Processing user 1957332: 100%|██████████| 19704/19704 [5:44:13<00:00,  1.05s/it]\n"
     ]
    }
   ],
   "source": [
    "import warnings\n",
    "warnings.filterwarnings('ignore')\n",
    "\n",
    "from tqdm import tqdm\n",
    "from time import sleep\n",
    "import random\n",
    "from collections import defaultdict, OrderedDict\n",
    "\n",
    "# Dictionary containing al the relevant clustered articles per user\n",
    "user_clustered_articles = {}\n",
    "\n",
    "# Insert per user its cluster ids and corresponding articles\n",
    "def insert_user_history_clusters(user_id, df, data_index_to_article_id):\n",
    "    # Get all possible clusters\n",
    "    clusters = df.cluster.unique()\n",
    "\n",
    "    if TEST:\n",
    "        print(\"Clusters user\", user_id, \":\", clusters)\n",
    "\n",
    "    for c in clusters:\n",
    "        if TEST:\n",
    "            print(\"Cluster:\", c)\n",
    "        \n",
    "        # Get all articles belonging to cluster c\n",
    "        clustered_articles = df.loc[df['cluster'] == c].copy()\n",
    "        # Sort articles history by most recent publishing date\n",
    "        ca_history = clustered_articles.sort_values(by='time_published', ascending = False)\n",
    "        \n",
    "        if TEST:\n",
    "            display(ca_history)\n",
    "        \n",
    "        article_id_indices = list(ca_history.index)\n",
    "\n",
    "        if TEST:\n",
    "            print(\"Cluster article indices df:\", article_id_indices)\n",
    "            \n",
    "        # For each article in the history save the <article_id> as a key and the <time_published> as value\n",
    "        for idx in article_id_indices:\n",
    "            # print(idx)\n",
    "            article_id = data_index_to_article_id[idx]\n",
    "            timestamp = df.loc[[idx],['time_published']].values[0]\n",
    "\n",
    "            if TEST:\n",
    "                print(timestamp)\n",
    "\n",
    "            if user_id not in user_clustered_articles:\n",
    "                user_clustered_articles[user_id] = {}\n",
    "                \n",
    "            # When cluster does not yet exist for user\n",
    "            if c not in user_clustered_articles[user_id]:\n",
    "                user_clustered_articles[user_id][c] = OrderedDict()\n",
    "                \n",
    "            user_clustered_articles[user_id][c][article_id] = timestamp\n",
    "\n",
    "        if TEST:\n",
    "            for cluster, articles in user_clustered_articles[user_id].items():\n",
    "                print(\"Cluster\", cluster)\n",
    "                for article_id, timestamp in articles.items():\n",
    "                    print(\"Article id\", article_id, \", timestamp\", timestamp)\n",
    "    \n",
    "            print(user_clustered_articles[user_id])\n",
    "\n",
    "if TEST:\n",
    "    N = 1\n",
    "else:\n",
    "    N = len(user_articles_info)\n",
    "    \n",
    "pbar = tqdm(list(user_articles_info.keys())[:N])\n",
    "\n",
    "# Loop through all users\n",
    "for user_id in pbar:\n",
    "    if TEST:\n",
    "        user_id = example_user_id\n",
    "        \n",
    "    pbar.set_description(\"Processing user %s\" % user_id)\n",
    "\n",
    "    # Sample data\n",
    "    data = user_articles_info[user_id]\n",
    "\n",
    "    data_index_to_article_id = data['index']\n",
    "\n",
    "    data = {'topics': data['topics'],\n",
    "            'sentiment': data['sentiment'],\n",
    "            'page_views': data['page_views'],\n",
    "           'time_published': data['time_published']}\n",
    "\n",
    "    # Number of articles\n",
    "    n_samples = len(data['page_views'])\n",
    "    \n",
    "    if TEST:\n",
    "        print(\"Number of articles\", n_samples)\n",
    "        \n",
    "    # Convert to DataFrame\n",
    "    df = pd.DataFrame(data)\n",
    "    \n",
    "    # Calculate the average of these columns ignoring NaN values\n",
    "    avg = df[['sentiment', 'page_views', 'time_published']].mean(skipna=True)\n",
    "\n",
    "    # When average page view is nan take the user's average 'page_view' on average \n",
    "    # (this case only occurs when user has only one article for which this value is nan \n",
    "    if math.isnan(avg['page_views']):\n",
    "        avg['page_views'] = avg_avg_user_page_views\n",
    "\n",
    "    # Imputation by the mean\n",
    "    df = df.fillna({'sentiment': avg['sentiment'], 'page_views': avg['page_views'], 'time_published': avg['time_published']})\n",
    "\n",
    "    # User history containing only one article needs no clustering, hardcode data and continue\n",
    "    if len(df.index) == 1:\n",
    "        df['cluster'] = [1]\n",
    "        insert_user_history_clusters(user_id, df, data_index_to_article_id)\n",
    "        continue\n",
    "    \n",
    "    # Multi-Label Binarizer for 'topics'\n",
    "    mlb = MultiLabelBinarizer()\n",
    "    # Normalizer for 'page_views'\n",
    "    scaler = MinMaxScaler()\n",
    "\n",
    "    topics_encoded = mlb.fit_transform(df['topics'])\n",
    "    page_views_normalized = scaler.fit_transform(df[['page_views']])\n",
    "    \n",
    "    # Convert 'time_published' to datetime and extract the hour\n",
    "    df['time_published'] = pd.to_datetime(df['time_published'], unit='s', format='%y-%m-%d %H:%M:%S')\n",
    "    df['hour'] = df['time_published'].dt.hour\n",
    "    \n",
    "    # Normalize the hour (0-23) to be between 0 and 1\n",
    "    hour_normalized = df['hour'] / 23.0\n",
    "    hour_normalized = hour_normalized.values.reshape(-1, 1)\n",
    "    \n",
    "    # Combine all features\n",
    "    features = np.hstack((topics_encoded, df[['sentiment']].values, page_views_normalized, hour_normalized))\n",
    "    \n",
    "    # Define a function to calculate Gower distance\n",
    "    def gower_distance(X):\n",
    "        individual_variable_distances = []\n",
    "        for col in range(X.shape[1]):\n",
    "            if np.issubdtype(X[:, col].dtype, np.number):\n",
    "                range_ = np.ptp(X[:, col])\n",
    "                if range_ == 0:\n",
    "                    range_ = 1  # avoid division by zero\n",
    "                individual_variable_distances.append(pdist(X[:, col].reshape(-1, 1), metric='euclidean') / range_)\n",
    "            else:\n",
    "                individual_variable_distances.append(pdist(X[:, col].reshape(-1, 1), metric='hamming'))\n",
    "        return np.sqrt(sum(individual_variable_distances))\n",
    "    \n",
    "    # Calculate Gower distance matrix\n",
    "    gower_dist_matrix = squareform(gower_distance(features))\n",
    "    \n",
    "    # Perform hierarchical clustering\n",
    "    Z = linkage(gower_dist_matrix, method='ward')\n",
    "    \n",
    "    # Calculate cophenetic distances\n",
    "    c, coph_dists = cophenet(Z, pdist(gower_dist_matrix))\n",
    "\n",
    "    if TEST:\n",
    "        print(\"cophenetic coefficient\", c)\n",
    "        print(\"cophenetic distances\", coph_dists)\n",
    "\n",
    "    if TEST:\n",
    "        print(\"Min cophenetic distance threshold =\", math.floor(min(coph_dists)))\n",
    "        print(\"Max cophenetic distance threshold =\", math.floor(max(coph_dists)))\n",
    "\n",
    "        # Plot the dendrogram\n",
    "        import matplotlib.pyplot as plt\n",
    "        plt.figure(figsize=(10, 7))\n",
    "        dendrogram(Z)\n",
    "        plt.title('Hierarchical Clustering Dendrogram')\n",
    "        plt.xlabel('Sample index')\n",
    "        plt.ylabel('Distance')\n",
    "        plt.show()\n",
    "\n",
    "    # Determine the range of t values from the linkage matrix\n",
    "    min_distance = math.floor(min(coph_dists))\n",
    "    max_distance = math.floor(max(coph_dists))\n",
    "\n",
    "    # Extend the range slightly beyond the min and max distances\n",
    "    t_values = np.linspace(min_distance + 0.5, max_distance + 0.5, 100)\n",
    "\n",
    "    # Try different thresholds for parameter t and determine optimal value\n",
    "    silhouette_scores = []\n",
    "\n",
    "    for t in t_values:\n",
    "        clusters = fcluster(Z, t, criterion='distance')\n",
    "        num_clusters = len(set(clusters))\n",
    "\n",
    "        if TEST:\n",
    "            print(\"Trying value\", t)\n",
    "            print(num_clusters, clusters)\n",
    "        \n",
    "        if num_clusters > 1:  # Ensure there is more than one cluster\n",
    "            if num_clusters >=  n_samples:\n",
    "                silhouette_scores.append(-1) # Assign a low score for number of clusters not in range [2, n_samples - 1]\n",
    "            else:\n",
    "                score = silhouette_score(gower_dist_matrix, clusters)\n",
    "                silhouette_scores.append(score)\n",
    "        else:\n",
    "            silhouette_scores.append(-1)  # Assign a low score for a single cluster\n",
    "    \n",
    "    # Find the t value that maximizes the silhouette score\n",
    "    optimal_t = t_values[np.argmax(silhouette_scores)]\n",
    "\n",
    "    if TEST:\n",
    "        print(f\"Optimal t value: {optimal_t}\")\n",
    "        \n",
    "    # Determine cluster assignments\n",
    "    max_d = optimal_t  # This value could also be set based on the dendrogram\n",
    "    clusters = fcluster(Z, max_d, criterion='distance')\n",
    "    \n",
    "    df['cluster'] = clusters\n",
    "\n",
    "    if TEST:\n",
    "        display(df)\n",
    "\n",
    "    insert_user_history_clusters(user_id, df, data_index_to_article_id)"
   ]
  },
  {
   "cell_type": "markdown",
   "id": "7d781d16",
   "metadata": {},
   "source": [
    "## DATA I/O\n",
    "### Save clustered data"
   ]
  },
  {
   "cell_type": "code",
   "execution_count": 10,
   "id": "7a0f5c86-6f97-4deb-9f39-a073d6b13feb",
   "metadata": {},
   "outputs": [],
   "source": [
    "import pickle\n",
    "\n",
    "# Write data: clustered user articles history\n",
    "# Structures :\n",
    "\"\"\"\n",
    "{<user_id>: \n",
    "    {<cluster_id>: \n",
    "        {<article_id>: <timestamp_published>,\n",
    "        <article_id>: <timestamp_published>,\n",
    "        …,\n",
    "        <article_id>: <timestamp_published>}\n",
    "    }\n",
    "}\n",
    "\"\"\"\n",
    "with open('../DATA/user_history_selection/user_clustered_articles_history.pickle', 'wb') as handle:\n",
    "    pickle.dump(user_clustered_articles, handle, protocol=pickle.HIGHEST_PROTOCOL)"
   ]
  },
  {
   "cell_type": "markdown",
   "id": "2864e5a6",
   "metadata": {},
   "source": [
    "### Test: Read in saved data"
   ]
  },
  {
   "cell_type": "code",
   "execution_count": 11,
   "id": "6b655468-1524-405f-b98c-fccb99c143ca",
   "metadata": {},
   "outputs": [
    {
     "name": "stdout",
     "output_type": "stream",
     "text": [
      "{'2444624': {130: OrderedDict([('9744055', array(['2023-05-02T03:07:21.000000000'], dtype='datetime64[ns]')), ('9558040', array(['2022-12-25T08:41:59.000000000'], dtype='datetime64[ns]'))]), 111: OrderedDict([('9767557', array(['2023-05-16T16:44:29.000000000'], dtype='datetime64[ns]'))]), 19: OrderedDict([('9764079', array(['2023-05-13T21:47:28.000000000'], dtype='datetime64[ns]')), ('9762836', array(['2023-05-12T21:48:28.000000000'], dtype='datetime64[ns]')), ('9760386', array(['2023-05-11T15:09:38.000000000'], dtype='datetime64[ns]')), ('9752244', array(['2023-05-07T09:38:40.000000000'], dtype='datetime64[ns]')), ('9751220', array(['2023-05-05T17:55:02.000000000'], dtype='datetime64[ns]')), ('9743831', array(['2023-05-01T07:53:29.000000000'], dtype='datetime64[ns]')), ('9742408', array(['2023-04-30T04:08:58.000000000'], dtype='datetime64[ns]')), ('9740400', array(['2023-04-28T10:07:15.000000000'], dtype='datetime64[ns]'))]), 52: OrderedDict([('9765551', array(['2023-05-15T02:13:35.000000000'], dtype='datetime64[ns]')), ('9763869', array(['2023-05-13T17:57:37.000000000'], dtype='datetime64[ns]')), ('9761087', array(['2023-05-12T03:33:46.000000000'], dtype='datetime64[ns]')), ('9760962', array(['2023-05-11T22:17:14.000000000'], dtype='datetime64[ns]')), ('9759885', array(['2023-05-11T11:56:28.000000000'], dtype='datetime64[ns]')), ('9758882', array(['2023-05-11T02:47:10.000000000'], dtype='datetime64[ns]')), ('9746868', array(['2023-05-02T22:38:45.000000000'], dtype='datetime64[ns]')), ('9738656', array(['2023-04-27T10:39:56.000000000'], dtype='datetime64[ns]'))]), 206: OrderedDict([('9765244', array(['2023-05-14T18:15:19.000000000'], dtype='datetime64[ns]')), ('9752984', array(['2023-05-07T17:34:04.000000000'], dtype='datetime64[ns]')), ('9740156', array(['2023-04-30T18:38:10.000000000'], dtype='datetime64[ns]'))]), 69: OrderedDict([('9757876', array(['2023-05-10T12:15:13.000000000'], dtype='datetime64[ns]')), ('9757537', array(['2023-05-10T09:07:44.000000000'], dtype='datetime64[ns]')), ('9747028', array(['2023-05-03T00:25:06.000000000'], dtype='datetime64[ns]'))]), 88: OrderedDict([('9767534', array(['2023-05-16T20:54:50.000000000'], dtype='datetime64[ns]')), ('9765641', array(['2023-05-15T04:47:48.000000000'], dtype='datetime64[ns]'))]), 82: OrderedDict([('9754814', array(['2023-05-08T15:25:55.000000000'], dtype='datetime64[ns]')), ('9743914', array(['2023-05-02T12:37:24.000000000'], dtype='datetime64[ns]'))]), 170: OrderedDict([('9768328', array(['2023-05-17T08:30:15.000000000'], dtype='datetime64[ns]')), ('9768467', array(['2023-05-17T02:36:31.000000000'], dtype='datetime64[ns]')), ('9766307', array(['2023-05-16T07:07:32.000000000'], dtype='datetime64[ns]')), ('9763398', array(['2023-05-13T11:55:42.000000000'], dtype='datetime64[ns]')), ('9763188', array(['2023-05-13T07:37:22.000000000'], dtype='datetime64[ns]')), ('9760290', array(['2023-05-12T07:02:01.000000000'], dtype='datetime64[ns]')), ('9759105', array(['2023-05-11T06:16:52.000000000'], dtype='datetime64[ns]')), ('9757607', array(['2023-05-10T12:17:42.000000000'], dtype='datetime64[ns]')), ('9757417', array(['2023-05-10T08:02:27.000000000'], dtype='datetime64[ns]')), ('9754087', array(['2023-05-09T07:00:48.000000000'], dtype='datetime64[ns]')), ('9751593', array(['2023-05-06T09:22:45.000000000'], dtype='datetime64[ns]')), ('9746105', array(['2023-05-03T07:08:08.000000000'], dtype='datetime64[ns]')), ('9742619', array(['2023-04-30T04:06:08.000000000'], dtype='datetime64[ns]')), ('9740843', array(['2023-04-28T12:48:57.000000000'], dtype='datetime64[ns]')), ('9738800', array(['2023-04-28T09:30:49.000000000'], dtype='datetime64[ns]')), ('9737393', array(['2023-04-27T12:26:16.000000000'], dtype='datetime64[ns]')), ('9509586', array(['2022-11-11T12:13:48.000000000'], dtype='datetime64[ns]'))]), 27: OrderedDict([('9754490', array(['2023-05-08T12:01:54.000000000'], dtype='datetime64[ns]')), ('9753715', array(['2023-05-08T08:09:52.000000000'], dtype='datetime64[ns]')), ('9746033', array(['2023-05-02T17:14:06.000000000'], dtype='datetime64[ns]')), ('9742280', array(['2023-04-30T08:24:08.000000000'], dtype='datetime64[ns]'))]), 204: OrderedDict([('9756160', array(['2023-05-09T17:57:58.000000000'], dtype='datetime64[ns]')), ('9749284', array(['2023-05-05T19:43:14.000000000'], dtype='datetime64[ns]'))]), 138: OrderedDict([('9767989', array(['2023-05-16T17:16:46.000000000'], dtype='datetime64[ns]')), ('9736695', array(['2023-05-01T05:03:12.000000000'], dtype='datetime64[ns]')), ('9735495', array(['2023-04-27T12:42:48.000000000'], dtype='datetime64[ns]'))]), 110: OrderedDict([('9759927', array(['2023-05-12T18:32:31.000000000'], dtype='datetime64[ns]')), ('9759162', array(['2023-05-11T06:43:15.000000000'], dtype='datetime64[ns]')), ('9754915', array(['2023-05-08T19:39:35.000000000'], dtype='datetime64[ns]'))]), 31: OrderedDict([('9750876', array(['2023-05-05T11:08:59.000000000'], dtype='datetime64[ns]')), ('9748706', array(['2023-05-03T20:42:02.000000000'], dtype='datetime64[ns]')), ('9747270', array(['2023-05-03T06:32:59.000000000'], dtype='datetime64[ns]')), ('9744897', array(['2023-05-01T19:54:56.000000000'], dtype='datetime64[ns]')), ('9738448', array(['2023-04-27T13:51:56.000000000'], dtype='datetime64[ns]')), ('9738447', array(['2023-04-27T12:45:01.000000000'], dtype='datetime64[ns]')), ('9557348', array(['2022-12-20T12:13:45.000000000'], dtype='datetime64[ns]'))]), 210: OrderedDict([('9770030', array(['2023-05-17T12:15:37.000000000'], dtype='datetime64[ns]')), ('9769781', array(['2023-05-17T10:17:42.000000000'], dtype='datetime64[ns]')), ('9747411', array(['2023-05-05T04:49:50.000000000'], dtype='datetime64[ns]')), ('9744301', array(['2023-05-01T11:22:18.000000000'], dtype='datetime64[ns]'))]), 192: OrderedDict([('9768685', array(['2023-05-16T17:37:58.000000000'], dtype='datetime64[ns]')), ('9748134', array(['2023-05-03T13:51:09.000000000'], dtype='datetime64[ns]'))]), 168: OrderedDict([('9766919', array(['2023-05-16T02:55:39.000000000'], dtype='datetime64[ns]')), ('9758025', array(['2023-05-10T18:04:38.000000000'], dtype='datetime64[ns]')), ('9751030', array(['2023-05-06T05:50:28.000000000'], dtype='datetime64[ns]')), ('9743992', array(['2023-05-01T08:05:59.000000000'], dtype='datetime64[ns]'))]), 106: OrderedDict([('9761945', array(['2023-05-12T18:47:25.000000000'], dtype='datetime64[ns]'))]), 20: OrderedDict([('9770126', array(['2023-05-17T13:04:27.000000000'], dtype='datetime64[ns]')), ('9767738', array(['2023-05-17T02:36:56.000000000'], dtype='datetime64[ns]')), ('9768193', array(['2023-05-16T13:03:17.000000000'], dtype='datetime64[ns]')), ('9757372', array(['2023-05-10T12:55:08.000000000'], dtype='datetime64[ns]')), ('9757575', array(['2023-05-10T09:19:57.000000000'], dtype='datetime64[ns]')), ('9756784', array(['2023-05-09T18:00:47.000000000'], dtype='datetime64[ns]')), ('9756425', array(['2023-05-09T13:47:08.000000000'], dtype='datetime64[ns]')), ('9756295', array(['2023-05-09T12:46:31.000000000'], dtype='datetime64[ns]')), ('9751020', array(['2023-05-05T19:38:42.000000000'], dtype='datetime64[ns]')), ('9750509', array(['2023-05-05T05:40:51.000000000'], dtype='datetime64[ns]')), ('9748948', array(['2023-05-04T08:50:13.000000000'], dtype='datetime64[ns]')), ('9748532', array(['2023-05-03T17:48:05.000000000'], dtype='datetime64[ns]')), ('9746687', array(['2023-05-02T18:09:25.000000000'], dtype='datetime64[ns]')), ('9746345', array(['2023-05-02T14:14:25.000000000'], dtype='datetime64[ns]')), ('9744152', array(['2023-05-02T12:33:58.000000000'], dtype='datetime64[ns]')), ('9745599', array(['2023-05-02T11:51:19.000000000'], dtype='datetime64[ns]')), ('9745476', array(['2023-05-02T08:15:03.000000000'], dtype='datetime64[ns]')), ('9743901', array(['2023-05-01T07:03:33.000000000'], dtype='datetime64[ns]')), ('9742936', array(['2023-04-30T13:03:11.000000000'], dtype='datetime64[ns]'))]), 147: OrderedDict([('9755730', array(['2023-05-09T11:39:44.000000000'], dtype='datetime64[ns]')), ('9740711', array(['2023-04-29T17:22:18.000000000'], dtype='datetime64[ns]')), ('9739202', array(['2023-04-27T16:00:31.000000000'], dtype='datetime64[ns]')), ('9736646', array(['2023-04-27T07:05:57.000000000'], dtype='datetime64[ns]'))]), 46: OrderedDict([('9762678', array(['2023-05-15T21:31:19.000000000'], dtype='datetime64[ns]')), ('9751975', array(['2023-05-06T18:18:22.000000000'], dtype='datetime64[ns]')), ('9742145', array(['2023-04-30T10:13:33.000000000'], dtype='datetime64[ns]'))]), 98: OrderedDict([('9740749', array(['2023-04-28T13:02:27.000000000'], dtype='datetime64[ns]')), ('9740106', array(['2023-04-28T09:43:38.000000000'], dtype='datetime64[ns]'))]), 83: OrderedDict([('9762125', array(['2023-05-12T14:08:12.000000000'], dtype='datetime64[ns]')), ('9740237', array(['2023-04-28T08:52:14.000000000'], dtype='datetime64[ns]'))]), 123: OrderedDict([('9748186', array(['2023-05-08T18:50:14.000000000'], dtype='datetime64[ns]')), ('9753684', array(['2023-05-08T06:52:04.000000000'], dtype='datetime64[ns]')), ('9751385', array(['2023-05-05T20:28:42.000000000'], dtype='datetime64[ns]')), ('9745706', array(['2023-05-03T05:27:55.000000000'], dtype='datetime64[ns]')), ('9740058', array(['2023-04-28T07:54:22.000000000'], dtype='datetime64[ns]'))]), 164: OrderedDict([('9767336', array(['2023-05-17T05:55:44.000000000'], dtype='datetime64[ns]')), ('9759353', array(['2023-05-11T08:30:00.000000000'], dtype='datetime64[ns]')), ('9747320', array(['2023-05-03T06:46:03.000000000'], dtype='datetime64[ns]')), ('9747328', array(['2023-05-03T06:35:01.000000000'], dtype='datetime64[ns]')), ('9746683', array(['2023-05-02T17:06:46.000000000'], dtype='datetime64[ns]')), ('9745893', array(['2023-05-02T11:36:52.000000000'], dtype='datetime64[ns]')), ('9744000', array(['2023-05-01T11:37:21.000000000'], dtype='datetime64[ns]')), ('9736809', array(['2023-05-01T09:38:43.000000000'], dtype='datetime64[ns]')), ('9743746', array(['2023-05-01T01:40:51.000000000'], dtype='datetime64[ns]')), ('9740610', array(['2023-04-29T13:48:13.000000000'], dtype='datetime64[ns]')), ('9740392', array(['2023-04-28T10:02:14.000000000'], dtype='datetime64[ns]')), ('9738334', array(['2023-04-27T07:28:13.000000000'], dtype='datetime64[ns]'))]), 188: OrderedDict([('9753080', array(['2023-05-07T17:16:39.000000000'], dtype='datetime64[ns]')), ('9745072', array(['2023-05-01T21:57:32.000000000'], dtype='datetime64[ns]')), ('9744477', array(['2023-05-01T13:04:25.000000000'], dtype='datetime64[ns]'))]), 62: OrderedDict([('9768860', array(['2023-05-16T21:30:55.000000000'], dtype='datetime64[ns]')), ('9767474', array(['2023-05-16T16:56:13.000000000'], dtype='datetime64[ns]')), ('9766599', array(['2023-05-16T13:51:18.000000000'], dtype='datetime64[ns]')), ('9761553', array(['2023-05-12T17:19:24.000000000'], dtype='datetime64[ns]')), ('9755027', array(['2023-05-08T18:02:32.000000000'], dtype='datetime64[ns]')), ('9753935', array(['2023-05-08T13:17:36.000000000'], dtype='datetime64[ns]')), ('9742737', array(['2023-05-02T19:31:43.000000000'], dtype='datetime64[ns]'))]), 41: OrderedDict([('9765871', array(['2023-05-15T08:59:40.000000000'], dtype='datetime64[ns]')), ('9752566', array(['2023-05-08T11:35:06.000000000'], dtype='datetime64[ns]'))]), 169: OrderedDict([('9769917', array(['2023-05-17T16:02:08.000000000'], dtype='datetime64[ns]')), ('9767602', array(['2023-05-16T16:44:45.000000000'], dtype='datetime64[ns]')), ('9714644', array(['2023-05-14T18:54:09.000000000'], dtype='datetime64[ns]')), ('9760829', array(['2023-05-11T20:02:27.000000000'], dtype='datetime64[ns]')), ('9760675', array(['2023-05-11T18:13:17.000000000'], dtype='datetime64[ns]')), ('9752463', array(['2023-05-07T21:38:45.000000000'], dtype='datetime64[ns]')), ('9749240', array(['2023-05-04T21:38:32.000000000'], dtype='datetime64[ns]')), ('9745931', array(['2023-05-02T21:34:42.000000000'], dtype='datetime64[ns]')), ('9746870', array(['2023-05-02T19:59:04.000000000'], dtype='datetime64[ns]')), ('9746751', array(['2023-05-02T18:43:23.000000000'], dtype='datetime64[ns]')), ('9744347', array(['2023-05-01T21:40:17.000000000'], dtype='datetime64[ns]')), ('9744925', array(['2023-05-01T18:21:20.000000000'], dtype='datetime64[ns]')), ('9744601', array(['2023-05-01T18:12:22.000000000'], dtype='datetime64[ns]')), ('7530879', array(['2019-02-25T14:19:46.000000000'], dtype='datetime64[ns]'))]), 177: OrderedDict([('9750161', array(['2023-05-04T16:31:54.000000000'], dtype='datetime64[ns]'))]), 183: OrderedDict([('9770037', array(['2023-05-17T12:21:29.000000000'], dtype='datetime64[ns]')), ('9737521', array(['2023-04-27T08:06:58.000000000'], dtype='datetime64[ns]'))]), 28: OrderedDict([('9754603', array(['2023-05-08T13:01:00.000000000'], dtype='datetime64[ns]')), ('8938733', array(['2021-11-01T19:09:59.000000000'], dtype='datetime64[ns]'))]), 7: OrderedDict([('9767975', array(['2023-05-16T18:21:53.000000000'], dtype='datetime64[ns]')), ('9747232', array(['2023-05-03T06:00:34.000000000'], dtype='datetime64[ns]'))]), 13: OrderedDict([('9769469', array(['2023-05-17T15:19:50.000000000'], dtype='datetime64[ns]')), ('9764642', array(['2023-05-14T18:11:13.000000000'], dtype='datetime64[ns]')), ('9763550', array(['2023-05-13T13:30:37.000000000'], dtype='datetime64[ns]')), ('9755224', array(['2023-05-08T20:39:24.000000000'], dtype='datetime64[ns]')), ('9754136', array(['2023-05-08T18:04:48.000000000'], dtype='datetime64[ns]')), ('9750861', array(['2023-05-06T09:18:27.000000000'], dtype='datetime64[ns]')), ('9749143', array(['2023-05-06T06:20:04.000000000'], dtype='datetime64[ns]')), ('9748519', array(['2023-05-03T17:09:58.000000000'], dtype='datetime64[ns]')), ('9748129', array(['2023-05-03T13:27:54.000000000'], dtype='datetime64[ns]')), ('9744625', array(['2023-05-01T18:22:25.000000000'], dtype='datetime64[ns]')), ('9743335', array(['2023-05-01T06:04:29.000000000'], dtype='datetime64[ns]')), ('9741176', array(['2023-04-28T17:24:40.000000000'], dtype='datetime64[ns]')), ('9738366', array(['2023-04-27T07:57:14.000000000'], dtype='datetime64[ns]'))]), 146: OrderedDict([('9758328', array(['2023-05-11T11:37:10.000000000'], dtype='datetime64[ns]')), ('9746428', array(['2023-05-03T07:19:36.000000000'], dtype='datetime64[ns]'))]), 189: OrderedDict([('9769414', array(['2023-05-17T08:07:15.000000000'], dtype='datetime64[ns]')), ('9716537', array(['2023-05-13T17:22:49.000000000'], dtype='datetime64[ns]')), ('9753168', array(['2023-05-07T18:39:23.000000000'], dtype='datetime64[ns]')), ('9752656', array(['2023-05-07T13:00:58.000000000'], dtype='datetime64[ns]'))]), 8: OrderedDict([('9767071', array(['2023-05-16T03:49:54.000000000'], dtype='datetime64[ns]')), ('9765572', array(['2023-05-15T07:34:13.000000000'], dtype='datetime64[ns]'))]), 34: OrderedDict([('9761858', array(['2023-05-12T11:25:30.000000000'], dtype='datetime64[ns]')), ('9750500', array(['2023-05-05T12:12:46.000000000'], dtype='datetime64[ns]')), ('9742049', array(['2023-04-30T09:45:14.000000000'], dtype='datetime64[ns]'))]), 176: OrderedDict([('9746049', array(['2023-05-02T12:53:49.000000000'], dtype='datetime64[ns]')), ('9740652', array(['2023-04-29T13:47:33.000000000'], dtype='datetime64[ns]'))]), 135: OrderedDict([('9765798', array(['2023-05-15T08:00:04.000000000'], dtype='datetime64[ns]')), ('9765185', array(['2023-05-14T19:24:59.000000000'], dtype='datetime64[ns]')), ('9765156', array(['2023-05-14T18:26:36.000000000'], dtype='datetime64[ns]')), ('9763721', array(['2023-05-13T17:59:50.000000000'], dtype='datetime64[ns]')), ('9745643', array(['2023-05-03T05:59:39.000000000'], dtype='datetime64[ns]')), ('9746499', array(['2023-05-02T20:29:38.000000000'], dtype='datetime64[ns]')), ('9741997', array(['2023-04-29T20:56:42.000000000'], dtype='datetime64[ns]'))]), 133: OrderedDict([('9767868', array(['2023-05-16T11:29:06.000000000'], dtype='datetime64[ns]')), ('9745298', array(['2023-05-02T05:34:43.000000000'], dtype='datetime64[ns]'))]), 140: OrderedDict([('9764070', array(['2023-05-13T23:03:00.000000000'], dtype='datetime64[ns]')), ('9753748', array(['2023-05-08T09:57:39.000000000'], dtype='datetime64[ns]')), ('9750696', array(['2023-05-05T10:08:25.000000000'], dtype='datetime64[ns]'))]), 127: OrderedDict([('9752320', array(['2023-05-07T07:42:45.000000000'], dtype='datetime64[ns]')), ('9740383', array(['2023-04-29T15:09:37.000000000'], dtype='datetime64[ns]'))]), 187: OrderedDict([('9758538', array(['2023-05-16T07:17:19.000000000'], dtype='datetime64[ns]')), ('9759461', array(['2023-05-11T08:51:28.000000000'], dtype='datetime64[ns]')), ('9757857', array(['2023-05-10T12:01:10.000000000'], dtype='datetime64[ns]')), ('9756733', array(['2023-05-09T16:59:29.000000000'], dtype='datetime64[ns]')), ('9756107', array(['2023-05-09T11:25:49.000000000'], dtype='datetime64[ns]')), ('9755102', array(['2023-05-08T18:16:21.000000000'], dtype='datetime64[ns]')), ('9754413', array(['2023-05-08T11:32:13.000000000'], dtype='datetime64[ns]')), ('9753503', array(['2023-05-08T01:59:18.000000000'], dtype='datetime64[ns]')), ('9752824', array(['2023-05-07T14:33:30.000000000'], dtype='datetime64[ns]')), ('9742770', array(['2023-04-30T09:00:35.000000000'], dtype='datetime64[ns]'))]), 179: OrderedDict([('9761788', array(['2023-05-12T16:00:47.000000000'], dtype='datetime64[ns]')), ('9760140', array(['2023-05-11T18:26:30.000000000'], dtype='datetime64[ns]')), ('9759284', array(['2023-05-11T08:07:28.000000000'], dtype='datetime64[ns]')), ('9474230', array(['2022-10-23T09:19:22.000000000'], dtype='datetime64[ns]'))]), 139: OrderedDict([('9759142', array(['2023-05-11T06:41:00.000000000'], dtype='datetime64[ns]')), ('9753295', array(['2023-05-07T19:57:54.000000000'], dtype='datetime64[ns]')), ('9745034', array(['2023-05-01T20:59:16.000000000'], dtype='datetime64[ns]'))]), 161: OrderedDict([('9757479', array(['2023-05-10T08:28:20.000000000'], dtype='datetime64[ns]')), ('9748323', array(['2023-05-03T14:43:04.000000000'], dtype='datetime64[ns]')), ('9746068', array(['2023-05-02T12:56:56.000000000'], dtype='datetime64[ns]'))]), 99: OrderedDict([('9748080', array(['2023-05-03T17:59:47.000000000'], dtype='datetime64[ns]')), ('9742627', array(['2023-04-30T04:41:02.000000000'], dtype='datetime64[ns]'))]), 6: OrderedDict([('9769891', array(['2023-05-17T11:16:30.000000000'], dtype='datetime64[ns]')), ('9769367', array(['2023-05-17T09:17:51.000000000'], dtype='datetime64[ns]'))]), 128: OrderedDict([('9759681', array(['2023-05-17T06:22:31.000000000'], dtype='datetime64[ns]')), ('9757891', array(['2023-05-10T12:22:28.000000000'], dtype='datetime64[ns]')), ('9756020', array(['2023-05-09T19:48:53.000000000'], dtype='datetime64[ns]')), ('9751962', array(['2023-05-06T20:45:21.000000000'], dtype='datetime64[ns]')), ('9747859', array(['2023-05-05T06:58:52.000000000'], dtype='datetime64[ns]')), ('9745661', array(['2023-05-03T11:12:03.000000000'], dtype='datetime64[ns]')), ('9744530', array(['2023-05-01T17:12:04.000000000'], dtype='datetime64[ns]')), ('9741415', array(['2023-04-28T21:03:12.000000000'], dtype='datetime64[ns]')), ('9740003', array(['2023-04-28T07:56:12.000000000'], dtype='datetime64[ns]'))]), 144: OrderedDict([('9756788', array(['2023-05-09T18:04:48.000000000'], dtype='datetime64[ns]'))]), 38: OrderedDict([('9762407', array(['2023-05-12T19:20:31.000000000'], dtype='datetime64[ns]')), ('9751411', array(['2023-05-05T21:33:32.000000000'], dtype='datetime64[ns]'))]), 3: OrderedDict([('9764378', array(['2023-05-14T07:08:32.000000000'], dtype='datetime64[ns]')), ('9763986', array(['2023-05-13T20:04:13.000000000'], dtype='datetime64[ns]')), ('9763952', array(['2023-05-13T19:26:22.000000000'], dtype='datetime64[ns]'))]), 85: OrderedDict([('9749873', array(['2023-05-06T08:28:33.000000000'], dtype='datetime64[ns]')), ('9749668', array(['2023-05-04T18:00:01.000000000'], dtype='datetime64[ns]')), ('9746342', array(['2023-05-02T18:00:02.000000000'], dtype='datetime64[ns]'))]), 37: OrderedDict([('9760672', array(['2023-05-14T05:55:51.000000000'], dtype='datetime64[ns]')), ('9761303', array(['2023-05-12T13:45:26.000000000'], dtype='datetime64[ns]')), ('9761359', array(['2023-05-12T08:49:26.000000000'], dtype='datetime64[ns]')), ('9756745', array(['2023-05-09T19:15:51.000000000'], dtype='datetime64[ns]'))]), 190: OrderedDict([('9754025', array(['2023-05-09T06:55:31.000000000'], dtype='datetime64[ns]')), ('9751485', array(['2023-05-06T04:13:58.000000000'], dtype='datetime64[ns]')), ('9740551', array(['2023-04-30T17:19:24.000000000'], dtype='datetime64[ns]'))]), 153: OrderedDict([('9761464', array(['2023-05-12T07:45:58.000000000'], dtype='datetime64[ns]')), ('9750189', array(['2023-05-04T17:18:30.000000000'], dtype='datetime64[ns]')), ('9747404', array(['2023-05-03T09:12:56.000000000'], dtype='datetime64[ns]'))]), 171: OrderedDict([('9764505', array(['2023-05-14T17:14:04.000000000'], dtype='datetime64[ns]')), ('9764345', array(['2023-05-14T11:41:33.000000000'], dtype='datetime64[ns]')), ('9761862', array(['2023-05-12T11:17:28.000000000'], dtype='datetime64[ns]')), ('9748043', array(['2023-05-07T09:31:00.000000000'], dtype='datetime64[ns]')), ('9744297', array(['2023-05-01T12:14:04.000000000'], dtype='datetime64[ns]'))]), 121: OrderedDict([('9761620', array(['2023-05-12T09:03:51.000000000'], dtype='datetime64[ns]')), ('9754520', array(['2023-05-08T12:32:17.000000000'], dtype='datetime64[ns]')), ('9749857', array(['2023-05-04T14:53:24.000000000'], dtype='datetime64[ns]'))]), 94: OrderedDict([('9756984', array(['2023-05-09T23:11:21.000000000'], dtype='datetime64[ns]')), ('9745140', array(['2023-05-02T02:18:07.000000000'], dtype='datetime64[ns]'))]), 202: OrderedDict([('9765326', array(['2023-05-15T21:01:00.000000000'], dtype='datetime64[ns]')), ('9764765', array(['2023-05-14T17:55:14.000000000'], dtype='datetime64[ns]')), ('9745524', array(['2023-05-02T20:42:21.000000000'], dtype='datetime64[ns]'))]), 48: OrderedDict([('9766973', array(['2023-05-16T00:51:13.000000000'], dtype='datetime64[ns]')), ('9753995', array(['2023-05-08T19:41:26.000000000'], dtype='datetime64[ns]')), ('9753415', array(['2023-05-07T23:53:55.000000000'], dtype='datetime64[ns]')), ('9748807', array(['2023-05-04T03:34:51.000000000'], dtype='datetime64[ns]')), ('9742586', array(['2023-04-30T04:14:27.000000000'], dtype='datetime64[ns]')), ('9741802', array(['2023-04-29T06:40:47.000000000'], dtype='datetime64[ns]'))]), 150: OrderedDict([('9751349', array(['2023-05-05T20:00:07.000000000'], dtype='datetime64[ns]')), ('9750162', array(['2023-05-04T18:10:58.000000000'], dtype='datetime64[ns]')), ('9746723', array(['2023-05-02T19:40:16.000000000'], dtype='datetime64[ns]')), ('9744263', array(['2023-05-01T11:04:55.000000000'], dtype='datetime64[ns]')), ('9203696', array(['2022-04-10T04:58:13.000000000'], dtype='datetime64[ns]'))]), 10: OrderedDict([('9769472', array(['2023-05-17T16:50:18.000000000'], dtype='datetime64[ns]')), ('9765169', array(['2023-05-14T18:37:11.000000000'], dtype='datetime64[ns]')), ('9764422', array(['2023-05-14T10:35:42.000000000'], dtype='datetime64[ns]')), ('9763668', array(['2023-05-14T06:43:41.000000000'], dtype='datetime64[ns]')), ('9762799', array(['2023-05-12T20:36:36.000000000'], dtype='datetime64[ns]')), ('9762718', array(['2023-05-12T19:49:37.000000000'], dtype='datetime64[ns]')), ('9758453', array(['2023-05-10T18:42:58.000000000'], dtype='datetime64[ns]')), ('9752638', array(['2023-05-07T12:59:23.000000000'], dtype='datetime64[ns]')), ('9751945', array(['2023-05-06T16:58:33.000000000'], dtype='datetime64[ns]')), ('9750078', array(['2023-05-05T08:37:37.000000000'], dtype='datetime64[ns]')), ('9749852', array(['2023-05-04T15:20:51.000000000'], dtype='datetime64[ns]')), ('9744479', array(['2023-05-01T12:54:33.000000000'], dtype='datetime64[ns]'))]), 11: OrderedDict([('9765839', array(['2023-05-15T08:09:44.000000000'], dtype='datetime64[ns]')), ('9764651', array(['2023-05-15T03:24:35.000000000'], dtype='datetime64[ns]')), ('9757193', array(['2023-05-10T07:19:46.000000000'], dtype='datetime64[ns]')), ('9753129', array(['2023-05-08T09:11:49.000000000'], dtype='datetime64[ns]')), ('9752338', array(['2023-05-07T07:57:04.000000000'], dtype='datetime64[ns]')), ('9750691', array(['2023-05-05T06:13:27.000000000'], dtype='datetime64[ns]')), ('9742775', array(['2023-04-30T09:17:38.000000000'], dtype='datetime64[ns]')), ('9742310', array(['2023-04-30T05:14:27.000000000'], dtype='datetime64[ns]')), ('9740952', array(['2023-04-29T05:10:33.000000000'], dtype='datetime64[ns]')), ('9739867', array(['2023-04-28T09:10:55.000000000'], dtype='datetime64[ns]')), ('9740121', array(['2023-04-28T08:11:30.000000000'], dtype='datetime64[ns]'))]), 108: OrderedDict([('9764813', array(['2023-05-14T15:01:52.000000000'], dtype='datetime64[ns]'))]), 141: OrderedDict([('9735669', array(['2023-05-02T20:00:00.000000000'], dtype='datetime64[ns]')), ('9746482', array(['2023-05-02T15:30:09.000000000'], dtype='datetime64[ns]')), ('9738457', array(['2023-04-29T20:00:00.000000000'], dtype='datetime64[ns]'))]), 92: OrderedDict([('9752124', array(['2023-05-06T21:28:11.000000000'], dtype='datetime64[ns]'))]), 60: OrderedDict([('9770638', array(['2023-05-17T18:59:40.000000000'], dtype='datetime64[ns]')), ('9761683', array(['2023-05-12T09:28:21.000000000'], dtype='datetime64[ns]')), ('9756894', array(['2023-05-09T23:10:38.000000000'], dtype='datetime64[ns]'))]), 59: OrderedDict([('9767604', array(['2023-05-17T02:51:22.000000000'], dtype='datetime64[ns]')), ('9763250', array(['2023-05-13T09:01:04.000000000'], dtype='datetime64[ns]')), ('9742635', array(['2023-04-30T08:05:30.000000000'], dtype='datetime64[ns]'))]), 126: OrderedDict([('9768564', array(['2023-05-17T02:36:16.000000000'], dtype='datetime64[ns]')), ('9762135', array(['2023-05-16T21:09:51.000000000'], dtype='datetime64[ns]')), ('9761768', array(['2023-05-13T08:07:49.000000000'], dtype='datetime64[ns]')), ('9762352', array(['2023-05-12T15:26:56.000000000'], dtype='datetime64[ns]')), ('9758326', array(['2023-05-10T15:13:44.000000000'], dtype='datetime64[ns]')), ('9755119', array(['2023-05-08T18:49:34.000000000'], dtype='datetime64[ns]')), ('9750891', array(['2023-05-07T06:12:21.000000000'], dtype='datetime64[ns]')), ('9727216', array(['2023-05-04T21:28:23.000000000'], dtype='datetime64[ns]')), ('9746627', array(['2023-05-03T15:05:54.000000000'], dtype='datetime64[ns]')), ('9741106', array(['2023-04-28T17:48:17.000000000'], dtype='datetime64[ns]'))]), 151: OrderedDict([('9770146', array(['2023-05-17T15:40:48.000000000'], dtype='datetime64[ns]')), ('9767368', array(['2023-05-16T09:30:02.000000000'], dtype='datetime64[ns]')), ('9759345', array(['2023-05-15T16:00:35.000000000'], dtype='datetime64[ns]')), ('9745912', array(['2023-05-02T12:54:12.000000000'], dtype='datetime64[ns]'))]), 160: OrderedDict([('9756441', array(['2023-05-09T14:00:28.000000000'], dtype='datetime64[ns]')), ('9750002', array(['2023-05-04T21:36:19.000000000'], dtype='datetime64[ns]')), ('9744931', array(['2023-05-01T18:40:24.000000000'], dtype='datetime64[ns]')), ('9735166', array(['2023-04-30T10:30:12.000000000'], dtype='datetime64[ns]'))]), 54: OrderedDict([('9770882', array(['2023-05-18T04:37:32.000000000'], dtype='datetime64[ns]')), ('9765539', array(['2023-05-15T00:39:48.000000000'], dtype='datetime64[ns]')), ('9760998', array(['2023-05-12T01:05:33.000000000'], dtype='datetime64[ns]')), ('9759109', array(['2023-05-11T06:22:39.000000000'], dtype='datetime64[ns]')), ('9755849', array(['2023-05-09T08:50:46.000000000'], dtype='datetime64[ns]')), ('9750793', array(['2023-05-05T08:21:02.000000000'], dtype='datetime64[ns]')), ('9742735', array(['2023-04-30T10:55:47.000000000'], dtype='datetime64[ns]')), ('9740580', array(['2023-04-30T04:00:00.000000000'], dtype='datetime64[ns]'))]), 73: OrderedDict([('9766949', array(['2023-05-16T00:52:20.000000000'], dtype='datetime64[ns]')), ('9756941', array(['2023-05-09T23:10:10.000000000'], dtype='datetime64[ns]')), ('9756849', array(['2023-05-09T19:14:40.000000000'], dtype='datetime64[ns]')), ('9744880', array(['2023-05-01T18:04:11.000000000'], dtype='datetime64[ns]'))]), 203: OrderedDict([('9738868', array(['2023-05-16T14:50:13.000000000'], dtype='datetime64[ns]')), ('9735824', array(['2023-05-06T20:00:00.000000000'], dtype='datetime64[ns]')), ('9735724', array(['2023-05-03T20:00:00.000000000'], dtype='datetime64[ns]')), ('9738456', array(['2023-04-29T20:00:00.000000000'], dtype='datetime64[ns]')), ('9698128', array(['2023-03-30T20:00:00.000000000'], dtype='datetime64[ns]')), ('5944936', array(['2016-05-21T00:00:00.000000000'], dtype='datetime64[ns]')), ('6006050', array(['2016-05-21T00:00:00.000000000'], dtype='datetime64[ns]'))]), 201: OrderedDict([('9745613', array(['2023-05-02T08:44:23.000000000'], dtype='datetime64[ns]')), ('9685790', array(['2023-04-24T06:29:00.000000000'], dtype='datetime64[ns]'))]), 211: OrderedDict([('9759708', array(['2023-05-12T13:54:30.000000000'], dtype='datetime64[ns]')), ('9749842', array(['2023-05-08T21:09:44.000000000'], dtype='datetime64[ns]')), ('9741144', array(['2023-04-29T20:21:19.000000000'], dtype='datetime64[ns]'))]), 199: OrderedDict([('9754319', array(['2023-05-08T21:18:35.000000000'], dtype='datetime64[ns]'))]), 208: OrderedDict([('9761047', array(['2023-05-12T02:39:20.000000000'], dtype='datetime64[ns]')), ('9749886', array(['2023-05-05T04:10:21.000000000'], dtype='datetime64[ns]')), ('9744221', array(['2023-05-02T21:16:59.000000000'], dtype='datetime64[ns]')), ('9738806', array(['2023-05-02T21:10:39.000000000'], dtype='datetime64[ns]')), ('9730301', array(['2023-04-30T20:39:50.000000000'], dtype='datetime64[ns]'))]), 63: OrderedDict([('9761601', array(['2023-05-14T18:32:11.000000000'], dtype='datetime64[ns]')), ('9747777', array(['2023-05-12T15:24:50.000000000'], dtype='datetime64[ns]'))]), 184: OrderedDict([('9763120', array(['2023-05-13T05:46:48.000000000'], dtype='datetime64[ns]')), ('9756190', array(['2023-05-09T20:29:59.000000000'], dtype='datetime64[ns]')), ('9756602', array(['2023-05-09T17:54:32.000000000'], dtype='datetime64[ns]')), ('9750718', array(['2023-05-05T06:38:03.000000000'], dtype='datetime64[ns]')), ('9746170', array(['2023-05-02T16:27:49.000000000'], dtype='datetime64[ns]')), ('9741772', array(['2023-04-29T05:46:56.000000000'], dtype='datetime64[ns]'))]), 185: OrderedDict([('9743818', array(['2023-05-01T05:48:21.000000000'], dtype='datetime64[ns]'))]), 33: OrderedDict([('9750304', array(['2023-05-05T09:45:52.000000000'], dtype='datetime64[ns]'))]), 107: OrderedDict([('9750873', array(['2023-05-07T04:10:37.000000000'], dtype='datetime64[ns]'))]), 15: OrderedDict([('9768882', array(['2023-05-17T06:28:07.000000000'], dtype='datetime64[ns]')), ('9768469', array(['2023-05-16T16:50:08.000000000'], dtype='datetime64[ns]')), ('9753019', array(['2023-05-07T17:54:22.000000000'], dtype='datetime64[ns]')), ('9752038', array(['2023-05-06T17:46:01.000000000'], dtype='datetime64[ns]')), ('9741296', array(['2023-04-28T17:49:18.000000000'], dtype='datetime64[ns]')), ('9740332', array(['2023-04-28T12:44:06.000000000'], dtype='datetime64[ns]')), ('9736693', array(['2023-04-27T11:21:48.000000000'], dtype='datetime64[ns]'))]), 182: OrderedDict([('9769244', array(['2023-05-17T06:20:33.000000000'], dtype='datetime64[ns]')), ('9761825', array(['2023-05-14T04:09:24.000000000'], dtype='datetime64[ns]')), ('9751508', array(['2023-05-06T05:55:01.000000000'], dtype='datetime64[ns]'))]), 21: OrderedDict([('9756096', array(['2023-05-09T11:43:56.000000000'], dtype='datetime64[ns]')), ('9746129', array(['2023-05-03T04:31:49.000000000'], dtype='datetime64[ns]'))]), 68: OrderedDict([('9750397', array(['2023-05-04T20:26:05.000000000'], dtype='datetime64[ns]')), ('9750358', array(['2023-05-04T19:47:47.000000000'], dtype='datetime64[ns]'))]), 207: OrderedDict([('9767233', array(['2023-05-16T04:40:20.000000000'], dtype='datetime64[ns]')), ('9749184', array(['2023-05-06T05:37:47.000000000'], dtype='datetime64[ns]'))]), 122: OrderedDict([('9757308', array(['2023-05-10T08:09:28.000000000'], dtype='datetime64[ns]')), ('9742800', array(['2023-04-30T11:41:10.000000000'], dtype='datetime64[ns]')), ('9738585', array(['2023-04-28T20:27:22.000000000'], dtype='datetime64[ns]'))]), 194: OrderedDict([('9761803', array(['2023-05-12T10:55:50.000000000'], dtype='datetime64[ns]')), ('9740249', array(['2023-04-28T09:23:50.000000000'], dtype='datetime64[ns]'))]), 47: OrderedDict([('9745674', array(['2023-05-02T09:26:32.000000000'], dtype='datetime64[ns]'))]), 77: OrderedDict([('9770425', array(['2023-05-17T15:37:25.000000000'], dtype='datetime64[ns]')), ('9756608', array(['2023-05-09T15:23:14.000000000'], dtype='datetime64[ns]')), ('9742764', array(['2023-04-30T16:40:07.000000000'], dtype='datetime64[ns]')), ('9742748', array(['2023-04-30T08:34:24.000000000'], dtype='datetime64[ns]')), ('9740161', array(['2023-04-28T08:18:28.000000000'], dtype='datetime64[ns]'))]), 178: OrderedDict([('9770604', array(['2023-05-17T17:57:43.000000000'], dtype='datetime64[ns]')), ('9768802', array(['2023-05-16T19:21:30.000000000'], dtype='datetime64[ns]')), ('9766264', array(['2023-05-16T03:06:25.000000000'], dtype='datetime64[ns]')), ('9749582', array(['2023-05-04T19:53:06.000000000'], dtype='datetime64[ns]')), ('9750039', array(['2023-05-04T15:18:53.000000000'], dtype='datetime64[ns]'))]), 109: OrderedDict([('9743229', array(['2023-05-01T04:00:00.000000000'], dtype='datetime64[ns]')), ('9741083', array(['2023-04-28T14:26:08.000000000'], dtype='datetime64[ns]'))]), 56: OrderedDict([('9756782', array(['2023-05-09T18:11:43.000000000'], dtype='datetime64[ns]')), ('9749729', array(['2023-05-04T13:20:16.000000000'], dtype='datetime64[ns]'))]), 18: OrderedDict([('9770452', array(['2023-05-17T16:07:56.000000000'], dtype='datetime64[ns]')), ('9770333', array(['2023-05-17T14:37:52.000000000'], dtype='datetime64[ns]')), ('9768829', array(['2023-05-16T20:40:13.000000000'], dtype='datetime64[ns]')), ('9768635', array(['2023-05-16T17:08:07.000000000'], dtype='datetime64[ns]')), ('9767741', array(['2023-05-16T12:09:47.000000000'], dtype='datetime64[ns]')), ('9764617', array(['2023-05-14T12:11:03.000000000'], dtype='datetime64[ns]')), ('9742423', array(['2023-04-29T18:58:27.000000000'], dtype='datetime64[ns]')), ('9741783', array(['2023-04-29T07:01:37.000000000'], dtype='datetime64[ns]'))]), 166: OrderedDict([('9769994', array(['2023-05-17T11:45:06.000000000'], dtype='datetime64[ns]')), ('9769459', array(['2023-05-17T09:06:06.000000000'], dtype='datetime64[ns]')), ('9768997', array(['2023-05-17T03:02:33.000000000'], dtype='datetime64[ns]')), ('9765545', array(['2023-05-15T00:40:21.000000000'], dtype='datetime64[ns]')), ('9749947', array(['2023-05-04T14:32:47.000000000'], dtype='datetime64[ns]')), ('9748574', array(['2023-05-03T18:02:45.000000000'], dtype='datetime64[ns]'))]), 81: OrderedDict([('9747267', array(['2023-05-03T05:55:06.000000000'], dtype='datetime64[ns]'))]), 117: OrderedDict([('9768150', array(['2023-05-16T12:57:38.000000000'], dtype='datetime64[ns]')), ('9762114', array(['2023-05-15T07:07:58.000000000'], dtype='datetime64[ns]')), ('9746694', array(['2023-05-02T17:32:44.000000000'], dtype='datetime64[ns]'))]), 198: OrderedDict([('9747684', array(['2023-05-09T16:33:38.000000000'], dtype='datetime64[ns]')), ('9755964', array(['2023-05-09T10:13:38.000000000'], dtype='datetime64[ns]')), ('9751509', array(['2023-05-06T07:35:05.000000000'], dtype='datetime64[ns]'))]), 42: OrderedDict([('9760809', array(['2023-05-13T09:21:08.000000000'], dtype='datetime64[ns]')), ('9738832', array(['2023-04-28T14:08:36.000000000'], dtype='datetime64[ns]')), ('4681209', array(['2014-03-27T22:55:15.000000000'], dtype='datetime64[ns]'))]), 173: OrderedDict([('9760944', array(['2023-05-11T22:06:14.000000000'], dtype='datetime64[ns]')), ('9749916', array(['2023-05-04T19:23:45.000000000'], dtype='datetime64[ns]')), ('9747518', array(['2023-05-03T08:31:32.000000000'], dtype='datetime64[ns]'))]), 49: OrderedDict([('9764564', array(['2023-05-14T11:10:49.000000000'], dtype='datetime64[ns]')), ('9750687', array(['2023-05-05T09:59:41.000000000'], dtype='datetime64[ns]'))]), 86: OrderedDict([('9754350', array(['2023-05-08T19:39:45.000000000'], dtype='datetime64[ns]'))]), 152: OrderedDict([('9756546', array(['2023-05-14T05:03:04.000000000'], dtype='datetime64[ns]')), ('9755010', array(['2023-05-09T08:38:35.000000000'], dtype='datetime64[ns]'))]), 51: OrderedDict([('9753479', array(['2023-05-08T01:45:22.000000000'], dtype='datetime64[ns]'))]), 26: OrderedDict([('9766238', array(['2023-05-16T16:12:07.000000000'], dtype='datetime64[ns]')), ('9739179', array(['2023-04-27T16:59:12.000000000'], dtype='datetime64[ns]'))]), 74: OrderedDict([('9767624', array(['2023-05-16T09:49:47.000000000'], dtype='datetime64[ns]')), ('9757470', array(['2023-05-10T08:22:45.000000000'], dtype='datetime64[ns]'))]), 35: OrderedDict([('9744313', array(['2023-05-01T11:31:49.000000000'], dtype='datetime64[ns]'))]), 134: OrderedDict([('9763090', array(['2023-05-13T09:15:36.000000000'], dtype='datetime64[ns]')), ('9761842', array(['2023-05-12T11:08:10.000000000'], dtype='datetime64[ns]'))]), 55: OrderedDict([('9768377', array(['2023-05-16T14:12:49.000000000'], dtype='datetime64[ns]')), ('9764199', array(['2023-05-14T04:10:15.000000000'], dtype='datetime64[ns]')), ('9756028', array(['2023-05-09T15:34:08.000000000'], dtype='datetime64[ns]')), ('9752788', array(['2023-05-07T14:52:16.000000000'], dtype='datetime64[ns]')), ('9752366', array(['2023-05-07T08:04:49.000000000'], dtype='datetime64[ns]')), ('9745709', array(['2023-05-03T17:20:18.000000000'], dtype='datetime64[ns]')), ('9746972', array(['2023-05-02T23:57:20.000000000'], dtype='datetime64[ns]')), ('9744070', array(['2023-05-02T03:05:35.000000000'], dtype='datetime64[ns]'))]), 17: OrderedDict([('9769893', array(['2023-05-17T10:47:43.000000000'], dtype='datetime64[ns]')), ('9767528', array(['2023-05-16T08:51:24.000000000'], dtype='datetime64[ns]')), ('9764362', array(['2023-05-14T10:47:50.000000000'], dtype='datetime64[ns]')), ('9763423', array(['2023-05-13T11:19:25.000000000'], dtype='datetime64[ns]')), ('9751564', array(['2023-05-06T08:32:49.000000000'], dtype='datetime64[ns]')), ('9744114', array(['2023-05-01T12:50:56.000000000'], dtype='datetime64[ns]')), ('9742806', array(['2023-04-30T10:13:07.000000000'], dtype='datetime64[ns]'))]), 136: OrderedDict([('9745154', array(['2023-05-02T02:19:51.000000000'], dtype='datetime64[ns]')), ('9743947', array(['2023-05-01T07:44:57.000000000'], dtype='datetime64[ns]'))]), 58: OrderedDict([('9748213', array(['2023-05-04T11:08:44.000000000'], dtype='datetime64[ns]')), ('9740488', array(['2023-04-29T06:30:49.000000000'], dtype='datetime64[ns]'))]), 67: OrderedDict([('9754000', array(['2023-05-08T08:21:10.000000000'], dtype='datetime64[ns]')), ('9745929', array(['2023-05-02T11:57:09.000000000'], dtype='datetime64[ns]'))]), 12: OrderedDict([('9770620', array(['2023-05-17T18:40:31.000000000'], dtype='datetime64[ns]')), ('9765336', array(['2023-05-14T19:19:04.000000000'], dtype='datetime64[ns]')), ('9764895', array(['2023-05-14T15:05:38.000000000'], dtype='datetime64[ns]')), ('9762694', array(['2023-05-12T18:52:08.000000000'], dtype='datetime64[ns]')), ('9762439', array(['2023-05-12T16:47:09.000000000'], dtype='datetime64[ns]')), ('9762028', array(['2023-05-12T14:24:54.000000000'], dtype='datetime64[ns]')), ('9760608', array(['2023-05-11T17:58:18.000000000'], dtype='datetime64[ns]')), ('9752744', array(['2023-05-07T14:35:57.000000000'], dtype='datetime64[ns]')), ('9751922', array(['2023-05-06T16:17:34.000000000'], dtype='datetime64[ns]')), ('9751764', array(['2023-05-06T13:03:33.000000000'], dtype='datetime64[ns]')), ('9746979', array(['2023-05-02T23:35:37.000000000'], dtype='datetime64[ns]')), ('9745045', array(['2023-05-01T21:14:32.000000000'], dtype='datetime64[ns]')), ('9744792', array(['2023-05-01T16:48:20.000000000'], dtype='datetime64[ns]')), ('9741309', array(['2023-04-28T17:01:12.000000000'], dtype='datetime64[ns]')), ('9738531', array(['2023-04-27T16:28:29.000000000'], dtype='datetime64[ns]'))]), 101: OrderedDict([('9749034', array(['2023-05-05T21:36:53.000000000'], dtype='datetime64[ns]')), ('9749584', array(['2023-05-04T11:39:13.000000000'], dtype='datetime64[ns]'))]), 116: OrderedDict([('9756987', array(['2023-05-09T23:20:52.000000000'], dtype='datetime64[ns]')), ('9754536', array(['2023-05-09T13:44:48.000000000'], dtype='datetime64[ns]')), ('9752685', array(['2023-05-08T08:37:54.000000000'], dtype='datetime64[ns]'))]), 53: OrderedDict([('9762530', array(['2023-05-12T16:30:46.000000000'], dtype='datetime64[ns]')), ('9757533', array(['2023-05-11T17:51:25.000000000'], dtype='datetime64[ns]')), ('9754996', array(['2023-05-09T19:43:44.000000000'], dtype='datetime64[ns]')), ('9748678', array(['2023-05-03T20:04:23.000000000'], dtype='datetime64[ns]')), ('9745130', array(['2023-05-01T23:44:11.000000000'], dtype='datetime64[ns]')), ('9745079', array(['2023-05-01T22:48:49.000000000'], dtype='datetime64[ns]')), ('9743702', array(['2023-04-30T20:53:28.000000000'], dtype='datetime64[ns]'))]), 115: OrderedDict([('9752375', array(['2023-05-07T14:40:46.000000000'], dtype='datetime64[ns]')), ('9745221', array(['2023-05-02T03:57:16.000000000'], dtype='datetime64[ns]')), ('9744216', array(['2023-05-01T10:06:57.000000000'], dtype='datetime64[ns]')), ('9738760', array(['2023-04-27T11:03:28.000000000'], dtype='datetime64[ns]'))]), 165: OrderedDict([('9755999', array(['2023-05-09T11:42:34.000000000'], dtype='datetime64[ns]')), ('9753727', array(['2023-05-08T07:25:47.000000000'], dtype='datetime64[ns]')), ('9749966', array(['2023-05-07T04:55:09.000000000'], dtype='datetime64[ns]')), ('9520286', array(['2022-11-25T13:36:53.000000000'], dtype='datetime64[ns]'))]), 65: OrderedDict([('9768583', array(['2023-05-16T21:23:52.000000000'], dtype='datetime64[ns]')), ('9746739', array(['2023-05-02T18:01:43.000000000'], dtype='datetime64[ns]'))]), 145: OrderedDict([('9767507', array(['2023-05-16T10:21:46.000000000'], dtype='datetime64[ns]')), ('9750789', array(['2023-05-05T12:49:09.000000000'], dtype='datetime64[ns]'))]), 89: OrderedDict([('9760521', array(['2023-05-11T21:27:45.000000000'], dtype='datetime64[ns]'))]), 29: OrderedDict([('9757378', array(['2023-05-10T08:18:12.000000000'], dtype='datetime64[ns]'))]), 76: OrderedDict([('9756317', array(['2023-05-09T14:11:41.000000000'], dtype='datetime64[ns]')), ('9749756', array(['2023-05-04T20:47:01.000000000'], dtype='datetime64[ns]'))]), 205: OrderedDict([('9751139', array(['2023-05-05T21:03:02.000000000'], dtype='datetime64[ns]')), ('9735645', array(['2023-05-01T20:00:00.000000000'], dtype='datetime64[ns]')), ('9714946', array(['2023-04-21T20:00:00.000000000'], dtype='datetime64[ns]'))]), 186: OrderedDict([('9735795', array(['2023-05-04T20:00:00.000000000'], dtype='datetime64[ns]'))]), 209: OrderedDict([('9760288', array(['2023-05-11T14:45:05.000000000'], dtype='datetime64[ns]')), ('9753047', array(['2023-05-09T19:49:38.000000000'], dtype='datetime64[ns]'))]), 32: OrderedDict([('9741804', array(['2023-04-29T12:21:49.000000000'], dtype='datetime64[ns]')), ('9739296', array(['2023-04-27T16:59:18.000000000'], dtype='datetime64[ns]'))]), 196: OrderedDict([('9749869', array(['2023-05-04T18:35:50.000000000'], dtype='datetime64[ns]')), ('9739272', array(['2023-04-28T21:14:38.000000000'], dtype='datetime64[ns]'))]), 39: OrderedDict([('9761391', array(['2023-05-12T07:50:43.000000000'], dtype='datetime64[ns]'))]), 5: OrderedDict([('9764049', array(['2023-05-13T21:15:12.000000000'], dtype='datetime64[ns]')), ('9763857', array(['2023-05-13T17:43:57.000000000'], dtype='datetime64[ns]')), ('9743397', array(['2023-04-30T17:00:10.000000000'], dtype='datetime64[ns]'))]), 44: OrderedDict([('9747796', array(['2023-05-03T10:43:48.000000000'], dtype='datetime64[ns]'))]), 22: OrderedDict([('9760170', array(['2023-05-12T17:16:32.000000000'], dtype='datetime64[ns]')), ('9760437', array(['2023-05-11T17:08:18.000000000'], dtype='datetime64[ns]'))]), 79: OrderedDict([('9761372', array(['2023-05-12T08:01:34.000000000'], dtype='datetime64[ns]')), ('9754388', array(['2023-05-11T18:01:18.000000000'], dtype='datetime64[ns]')), ('9759051', array(['2023-05-11T06:35:04.000000000'], dtype='datetime64[ns]'))]), 181: OrderedDict([('9761531', array(['2023-05-12T10:38:55.000000000'], dtype='datetime64[ns]')), ('9753949', array(['2023-05-08T21:23:55.000000000'], dtype='datetime64[ns]')), ('9735866', array(['2023-05-08T20:00:00.000000000'], dtype='datetime64[ns]')), ('9735815', array(['2023-05-05T20:00:00.000000000'], dtype='datetime64[ns]')), ('9725209', array(['2023-04-27T20:00:00.000000000'], dtype='datetime64[ns]')), ('9549298', array(['2022-12-25T21:00:00.000000000'], dtype='datetime64[ns]'))]), 156: OrderedDict([('9747839', array(['2023-05-03T12:25:52.000000000'], dtype='datetime64[ns]'))]), 155: OrderedDict([('9770006', array(['2023-05-17T11:54:33.000000000'], dtype='datetime64[ns]')), ('9745698', array(['2023-05-02T10:54:53.000000000'], dtype='datetime64[ns]'))]), 97: OrderedDict([('9770328', array(['2023-05-17T14:22:46.000000000'], dtype='datetime64[ns]')), ('9754288', array(['2023-05-08T13:13:25.000000000'], dtype='datetime64[ns]')), ('9748447', array(['2023-05-03T15:40:56.000000000'], dtype='datetime64[ns]'))]), 167: OrderedDict([('9761288', array(['2023-05-12T05:18:43.000000000'], dtype='datetime64[ns]')), ('9748038', array(['2023-05-03T12:49:08.000000000'], dtype='datetime64[ns]')), ('9746648', array(['2023-05-02T16:48:54.000000000'], dtype='datetime64[ns]')), ('9744213', array(['2023-05-01T15:01:48.000000000'], dtype='datetime64[ns]')), ('9743934', array(['2023-05-01T07:35:46.000000000'], dtype='datetime64[ns]')), ('9738883', array(['2023-04-28T21:31:32.000000000'], dtype='datetime64[ns]'))]), 157: OrderedDict([('9769580', array(['2023-05-17T18:31:50.000000000'], dtype='datetime64[ns]')), ('9758057', array(['2023-05-14T05:48:20.000000000'], dtype='datetime64[ns]')), ('9741288', array(['2023-04-29T13:40:01.000000000'], dtype='datetime64[ns]'))]), 71: OrderedDict([('9748106', array(['2023-05-03T17:00:44.000000000'], dtype='datetime64[ns]')), ('9748140', array(['2023-05-03T13:31:58.000000000'], dtype='datetime64[ns]'))]), 80: OrderedDict([('9761419', array(['2023-05-12T21:03:21.000000000'], dtype='datetime64[ns]')), ('9762441', array(['2023-05-12T16:20:29.000000000'], dtype='datetime64[ns]')), ('9761561', array(['2023-05-12T14:08:39.000000000'], dtype='datetime64[ns]'))]), 120: OrderedDict([('9762288', array(['2023-05-17T18:31:40.000000000'], dtype='datetime64[ns]')), ('9762373', array(['2023-05-13T20:49:08.000000000'], dtype='datetime64[ns]')), ('9740330', array(['2023-05-04T21:35:42.000000000'], dtype='datetime64[ns]'))]), 191: OrderedDict([('9736862', array(['2023-04-30T08:50:06.000000000'], dtype='datetime64[ns]'))]), 180: OrderedDict([('9767908', array(['2023-05-16T11:31:30.000000000'], dtype='datetime64[ns]')), ('9764461', array(['2023-05-14T10:32:12.000000000'], dtype='datetime64[ns]'))]), 2: OrderedDict([('9770592', array(['2023-05-17T17:50:17.000000000'], dtype='datetime64[ns]')), ('9750815', array(['2023-05-05T08:58:02.000000000'], dtype='datetime64[ns]')), ('9740942', array(['2023-04-29T05:35:58.000000000'], dtype='datetime64[ns]'))]), 64: OrderedDict([('9765955', array(['2023-05-15T16:31:24.000000000'], dtype='datetime64[ns]')), ('9748470', array(['2023-05-03T17:00:14.000000000'], dtype='datetime64[ns]'))]), 23: OrderedDict([('9745869', array(['2023-05-02T15:10:05.000000000'], dtype='datetime64[ns]'))]), 119: OrderedDict([('9752998', array(['2023-05-07T19:39:14.000000000'], dtype='datetime64[ns]')), ('9745450', array(['2023-05-02T08:32:02.000000000'], dtype='datetime64[ns]'))]), 75: OrderedDict([('9755025', array(['2023-05-08T17:34:01.000000000'], dtype='datetime64[ns]')), ('9743692', array(['2023-04-30T22:06:53.000000000'], dtype='datetime64[ns]'))]), 93: OrderedDict([('9751367', array(['2023-05-05T20:48:37.000000000'], dtype='datetime64[ns]'))]), 174: OrderedDict([('9763279', array(['2023-05-13T10:04:20.000000000'], dtype='datetime64[ns]')), ('9742440', array(['2023-04-29T18:48:18.000000000'], dtype='datetime64[ns]'))]), 148: OrderedDict([('9756287', array(['2023-05-09T16:51:28.000000000'], dtype='datetime64[ns]')), ('9750833', array(['2023-05-06T06:52:20.000000000'], dtype='datetime64[ns]')), ('9733257', array(['2023-04-23T20:26:47.000000000'], dtype='datetime64[ns]'))]), 84: OrderedDict([('9748035', array(['2023-05-07T07:20:19.000000000'], dtype='datetime64[ns]')), ('9745898', array(['2023-05-02T17:29:59.000000000'], dtype='datetime64[ns]'))]), 96: OrderedDict([('9750227', array(['2023-05-07T04:11:02.000000000'], dtype='datetime64[ns]')), ('9751524', array(['2023-05-06T06:41:01.000000000'], dtype='datetime64[ns]'))]), 14: OrderedDict([('9764986', array(['2023-05-14T15:45:51.000000000'], dtype='datetime64[ns]')), ('9763880', array(['2023-05-13T18:49:15.000000000'], dtype='datetime64[ns]')), ('9763129', array(['2023-05-13T13:25:48.000000000'], dtype='datetime64[ns]')), ('9762341', array(['2023-05-12T16:46:12.000000000'], dtype='datetime64[ns]')), ('9743207', array(['2023-04-30T20:41:07.000000000'], dtype='datetime64[ns]'))]), 113: OrderedDict([('9765582', array(['2023-05-15T03:23:02.000000000'], dtype='datetime64[ns]'))]), 87: OrderedDict([('9729988', array(['2023-05-15T20:01:34.000000000'], dtype='datetime64[ns]'))]), 36: OrderedDict([('9746674', array(['2023-05-03T05:20:53.000000000'], dtype='datetime64[ns]')), ('9504105', array(['2022-11-07T19:38:11.000000000'], dtype='datetime64[ns]'))]), 45: OrderedDict([('9752890', array(['2023-05-08T21:16:30.000000000'], dtype='datetime64[ns]'))]), 158: OrderedDict([('9768599', array(['2023-05-16T16:12:28.000000000'], dtype='datetime64[ns]'))]), 131: OrderedDict([('9765153', array(['2023-05-15T03:24:26.000000000'], dtype='datetime64[ns]')), ('9738567', array(['2023-04-27T16:58:37.000000000'], dtype='datetime64[ns]'))]), 24: OrderedDict([('9759951', array(['2023-05-12T17:46:27.000000000'], dtype='datetime64[ns]')), ('9758252', array(['2023-05-10T18:29:32.000000000'], dtype='datetime64[ns]'))]), 154: OrderedDict([('9754271', array(['2023-05-08T11:15:02.000000000'], dtype='datetime64[ns]')), ('9744356', array(['2023-05-02T21:44:04.000000000'], dtype='datetime64[ns]'))]), 129: OrderedDict([('9767948', array(['2023-05-16T11:40:46.000000000'], dtype='datetime64[ns]')), ('9743846', array(['2023-05-01T06:51:43.000000000'], dtype='datetime64[ns]'))]), 102: OrderedDict([('9750872', array(['2023-05-06T04:12:43.000000000'], dtype='datetime64[ns]'))]), 91: OrderedDict([('9752731', array(['2023-05-07T13:39:48.000000000'], dtype='datetime64[ns]'))]), 66: OrderedDict([('9744713', array(['2023-05-01T21:33:41.000000000'], dtype='datetime64[ns]'))]), 90: OrderedDict([('9768387', array(['2023-05-16T14:14:55.000000000'], dtype='datetime64[ns]')), ('9762377', array(['2023-05-12T19:32:57.000000000'], dtype='datetime64[ns]')), ('9740323', array(['2023-04-28T09:27:42.000000000'], dtype='datetime64[ns]'))]), 30: OrderedDict([('9742268', array(['2023-04-29T14:54:16.000000000'], dtype='datetime64[ns]'))]), 72: OrderedDict([('9768707', array(['2023-05-16T18:08:01.000000000'], dtype='datetime64[ns]')), ('9748792', array(['2023-05-04T00:52:28.000000000'], dtype='datetime64[ns]'))]), 43: OrderedDict([('9746148', array(['2023-05-02T13:18:22.000000000'], dtype='datetime64[ns]')), ('9745906', array(['2023-05-02T11:42:34.000000000'], dtype='datetime64[ns]'))]), 4: OrderedDict([('9474355', array(['2022-10-19T06:47:52.000000000'], dtype='datetime64[ns]'))]), 193: OrderedDict([('9738569', array(['2023-04-27T09:33:16.000000000'], dtype='datetime64[ns]'))]), 175: OrderedDict([('9754571', array(['2023-05-12T05:13:37.000000000'], dtype='datetime64[ns]')), ('9742509', array(['2023-04-29T20:55:38.000000000'], dtype='datetime64[ns]'))]), 1: OrderedDict([('9768260', array(['2023-05-17T18:10:33.000000000'], dtype='datetime64[ns]')), ('9763291', array(['2023-05-13T09:47:23.000000000'], dtype='datetime64[ns]'))]), 61: OrderedDict([('9755254', array(['2023-05-08T20:46:56.000000000'], dtype='datetime64[ns]')), ('9753811', array(['2023-05-08T09:20:20.000000000'], dtype='datetime64[ns]'))]), 78: OrderedDict([('9750726', array(['2023-05-05T07:35:52.000000000'], dtype='datetime64[ns]')), ('9745016', array(['2023-05-01T20:10:35.000000000'], dtype='datetime64[ns]'))]), 70: OrderedDict([('9740710', array(['2023-04-28T12:10:26.000000000'], dtype='datetime64[ns]'))]), 100: OrderedDict([('9747437', array(['2023-05-03T07:44:15.000000000'], dtype='datetime64[ns]')), ('9735579', array(['2023-04-28T06:14:27.000000000'], dtype='datetime64[ns]'))]), 105: OrderedDict([('9728166', array(['2023-05-17T02:42:22.000000000'], dtype='datetime64[ns]'))]), 118: OrderedDict([('9756297', array(['2023-05-09T13:56:34.000000000'], dtype='datetime64[ns]')), ('9746488', array(['2023-05-02T21:25:09.000000000'], dtype='datetime64[ns]'))]), 200: OrderedDict([('9737243', array(['2023-04-27T21:42:57.000000000'], dtype='datetime64[ns]'))]), 103: OrderedDict([('9755580', array(['2023-05-10T14:33:37.000000000'], dtype='datetime64[ns]'))]), 143: OrderedDict([('9752332', array(['2023-05-07T20:04:11.000000000'], dtype='datetime64[ns]')), ('9508202', array(['2022-11-11T14:27:04.000000000'], dtype='datetime64[ns]'))]), 172: OrderedDict([('9754133', array(['2023-05-08T20:41:17.000000000'], dtype='datetime64[ns]'))]), 142: OrderedDict([('9766627', array(['2023-05-15T18:06:16.000000000'], dtype='datetime64[ns]')), ('9759389', array(['2023-05-11T08:26:20.000000000'], dtype='datetime64[ns]'))]), 95: OrderedDict([('9750904', array(['2023-05-05T10:47:28.000000000'], dtype='datetime64[ns]'))]), 9: OrderedDict([('9766136', array(['2023-05-16T13:59:26.000000000'], dtype='datetime64[ns]'))]), 162: OrderedDict([('9761699', array(['2023-05-12T09:36:49.000000000'], dtype='datetime64[ns]')), ('9755748', array(['2023-05-09T08:29:18.000000000'], dtype='datetime64[ns]')), ('9740182', array(['2023-04-28T08:42:50.000000000'], dtype='datetime64[ns]'))]), 132: OrderedDict([('9761635', array(['2023-05-12T09:06:16.000000000'], dtype='datetime64[ns]')), ('9760112', array(['2023-05-11T22:50:45.000000000'], dtype='datetime64[ns]')), ('9744733', array(['2023-05-01T20:15:39.000000000'], dtype='datetime64[ns]'))]), 197: OrderedDict([('9751290', array(['2023-05-05T18:54:56.000000000'], dtype='datetime64[ns]'))]), 50: OrderedDict([('9766944', array(['2023-05-16T00:55:42.000000000'], dtype='datetime64[ns]'))]), 124: OrderedDict([('9740021', array(['2023-05-01T06:51:21.000000000'], dtype='datetime64[ns]')), ('9738490', array(['2023-04-27T09:39:57.000000000'], dtype='datetime64[ns]'))]), 114: OrderedDict([('9748798', array(['2023-05-04T00:59:16.000000000'], dtype='datetime64[ns]'))]), 25: OrderedDict([('9755734', array(['2023-05-09T08:59:29.000000000'], dtype='datetime64[ns]')), ('9746924', array(['2023-05-02T20:49:19.000000000'], dtype='datetime64[ns]'))]), 159: OrderedDict([('9746558', array(['2023-05-02T16:22:55.000000000'], dtype='datetime64[ns]'))]), 40: OrderedDict([('9738855', array(['2023-04-27T15:36:20.000000000'], dtype='datetime64[ns]'))]), 16: OrderedDict([('9748760', array(['2023-05-04T01:56:08.000000000'], dtype='datetime64[ns]'))]), 125: OrderedDict([('9759929', array(['2023-05-11T17:05:54.000000000'], dtype='datetime64[ns]'))]), 195: OrderedDict([('9740427', array(['2023-04-28T10:33:36.000000000'], dtype='datetime64[ns]'))]), 104: OrderedDict([('9737143', array(['2023-05-01T06:00:50.000000000'], dtype='datetime64[ns]'))]), 57: OrderedDict([('9747633', array(['2023-05-07T08:28:24.000000000'], dtype='datetime64[ns]'))]), 112: OrderedDict([('9752593', array(['2023-05-08T18:46:51.000000000'], dtype='datetime64[ns]'))]), 149: OrderedDict([('9740223', array(['2023-04-28T11:12:55.000000000'], dtype='datetime64[ns]'))]), 137: OrderedDict([('9741788', array(['2023-04-29T06:06:08.000000000'], dtype='datetime64[ns]'))]), 163: OrderedDict([('9739864', array(['2023-04-28T05:17:36.000000000'], dtype='datetime64[ns]'))])}}\n"
     ]
    }
   ],
   "source": [
    "# Test\n",
    "with open('../DATA/user_history_selection/user_clustered_articles_history.pickle', 'rb') as handle:\n",
    "    file = pickle.load(handle)\n",
    "\n",
    "K = 1\n",
    "res = dict(list(file.items())[0: K])\n",
    "print(res)"
   ]
  }
 ],
 "metadata": {
  "kernelspec": {
   "display_name": "Python 3 (ipykernel)",
   "language": "python",
   "name": "python3"
  },
  "language_info": {
   "codemirror_mode": {
    "name": "ipython",
    "version": 3
   },
   "file_extension": ".py",
   "mimetype": "text/x-python",
   "name": "python",
   "nbconvert_exporter": "python",
   "pygments_lexer": "ipython3",
   "version": "3.10.12"
  }
 },
 "nbformat": 4,
 "nbformat_minor": 5
}
